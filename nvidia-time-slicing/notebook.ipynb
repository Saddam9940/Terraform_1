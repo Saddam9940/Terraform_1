{
 "cells": [
  {
   "cell_type": "code",
   "execution_count": 1,
   "id": "01953834-776f-4b9c-9dd3-5b6db0e36baa",
   "metadata": {
    "scrolled": true
   },
   "outputs": [],
   "source": [
    "!pip -q install langchain openai huggingface_hub ipywidgets"
   ]
  },
  {
   "cell_type": "code",
   "execution_count": 2,
   "id": "6663dd73-2262-48d1-92bb-2e9297da80ee",
   "metadata": {},
   "outputs": [
    {
     "name": "stdout",
     "output_type": "stream",
     "text": [
      "Wed Jun 28 15:33:07 2023       \n",
      "+-----------------------------------------------------------------------------+\n",
      "| NVIDIA-SMI 515.86.01    Driver Version: 515.86.01    CUDA Version: 11.7     |\n",
      "|-------------------------------+----------------------+----------------------+\n",
      "| GPU  Name        Persistence-M| Bus-Id        Disp.A | Volatile Uncorr. ECC |\n",
      "| Fan  Temp  Perf  Pwr:Usage/Cap|         Memory-Usage | GPU-Util  Compute M. |\n",
      "|                               |                      |               MIG M. |\n",
      "|===============================+======================+======================|\n",
      "|   0  NVIDIA A10G         Off  | 00000000:00:1E.0 Off |                    0 |\n",
      "|  0%   26C    P8    24W / 300W |      0MiB / 23028MiB |      0%      Default |\n",
      "|                               |                      |                  N/A |\n",
      "+-------------------------------+----------------------+----------------------+\n",
      "                                                                               \n",
      "+-----------------------------------------------------------------------------+\n",
      "| Processes:                                                                  |\n",
      "|  GPU   GI   CI        PID   Type   Process name                  GPU Memory |\n",
      "|        ID   ID                                                   Usage      |\n",
      "|=============================================================================|\n",
      "|  No running processes found                                                 |\n",
      "+-----------------------------------------------------------------------------+\n"
     ]
    }
   ],
   "source": [
    "!nvidia-smi"
   ]
  },
  {
   "cell_type": "markdown",
   "id": "8ab55a29-6f77-4c92-bc8f-fd35531c8ce5",
   "metadata": {},
   "source": [
    "## Langchain\n",
    "\n",
    "LangChain is a framework designed to simplify the creation of applications using large language models.\n",
    "\n",
    "https://github.com/hwchase17/langchain"
   ]
  },
  {
   "cell_type": "markdown",
   "id": "41dfefff-3e54-4dc0-9bf3-a5f3c2b840ac",
   "metadata": {},
   "source": [
    "## Interact with foundation models directly"
   ]
  },
  {
   "cell_type": "code",
   "execution_count": 3,
   "id": "fe69e466-7c54-4cbc-8c51-18820ff95f45",
   "metadata": {},
   "outputs": [],
   "source": [
    "from langchain.llms import OpenAI\n",
    "\n",
    "llm = OpenAI(model_name=\"text-davinci-003\",\n",
    "             temperature=0,\n",
    "             max_tokens=256)"
   ]
  },
  {
   "cell_type": "code",
   "execution_count": 4,
   "id": "b190d12f-ecc3-4db1-b1b3-49d5f311bda1",
   "metadata": {
    "scrolled": true
   },
   "outputs": [
    {
     "name": "stdout",
     "output_type": "stream",
     "text": [
      "\n",
      "\n",
      "To get to the other side.\n"
     ]
    }
   ],
   "source": [
    "print(llm(\"Why did the chicken cross the road?\"))"
   ]
  },
  {
   "cell_type": "markdown",
   "id": "f2ad8958-9641-49b5-a1df-67487b5a06a3",
   "metadata": {},
   "source": [
    "## Tuning foundation model with prompts"
   ]
  },
  {
   "cell_type": "code",
   "execution_count": 7,
   "id": "e1e1ccab-8fc1-47f4-85e3-09dcf5388171",
   "metadata": {},
   "outputs": [],
   "source": [
    "from langchain import PromptTemplate\n",
    "\n",
    "restaraunt_template = \"\"\"\n",
    "I want you to act as a naming consultant for new restaraunts.\n",
    "\n",
    "Return a list of restaraunt names. Each name should be short, catchy and easy to remember.\n",
    "\n",
    "What are some good names for a restaraunt that is {restaraunt_description}?\n",
    "\"\"\"\n",
    "\n",
    "prompt = PromptTemplate(\n",
    "    input_variables=[\"restaraunt_description\"],\n",
    "    template=restaraunt_template\n",
    ")"
   ]
  },
  {
   "cell_type": "code",
   "execution_count": 8,
   "id": "1b22c0d1-d3b2-48f6-9e8d-33418e042eb8",
   "metadata": {},
   "outputs": [
    {
     "name": "stdout",
     "output_type": "stream",
     "text": [
      "\n",
      "1. Wing Stop\n",
      "2. Wingin' Out\n",
      "3. Wing-A-Ling\n",
      "4. Wing-It\n",
      "5. Wing-Mania\n",
      "6. Wing-Tastic\n",
      "7. Wing-Fling\n",
      "8. Wing-Rama\n",
      "9. Wing-Ding\n",
      "10. Wing-A-Roo\n"
     ]
    }
   ],
   "source": [
    "print(llm(\n",
    "    prompt.format(restaraunt_description=\"roadside chicken wings\")\n",
    "))"
   ]
  },
  {
   "cell_type": "markdown",
   "id": "0d2a21aa-9082-41ab-b204-38b055b993a3",
   "metadata": {},
   "source": [
    "## Chaining"
   ]
  },
  {
   "cell_type": "code",
   "execution_count": 9,
   "id": "93a33d27-7ca7-4bdc-8cb6-836a177b3f51",
   "metadata": {},
   "outputs": [],
   "source": [
    "llm = OpenAI(model_name=\"text-davinci-003\",\n",
    "             temperature=0.9,\n",
    "             max_tokens=256)"
   ]
  },
  {
   "cell_type": "code",
   "execution_count": 10,
   "id": "6bfe2f5c-38a7-4fec-b57b-2d27d1b4fb60",
   "metadata": {},
   "outputs": [
    {
     "name": "stdout",
     "output_type": "stream",
     "text": [
      "\n",
      "\n",
      "Painted Toes Socks.\n"
     ]
    }
   ],
   "source": [
    "from langchain import PromptTemplate\n",
    "from langchain.chains import LLMChain\n",
    "\n",
    "template = \"What is a good name for a company that makes {product}?\"\n",
    "prompt = PromptTemplate(\n",
    "    input_variables=[\"product\"],\n",
    "    template=template,\n",
    ")\n",
    "\n",
    "prompt.format(product=\"colorful socks\")\n",
    "chain = LLMChain(llm = llm, prompt = prompt)\n",
    "print(chain.run(\"colorful socks\"))"
   ]
  },
  {
   "cell_type": "code",
   "execution_count": 11,
   "id": "fe56b32b-c6a1-4ad7-9ea1-4cc767942055",
   "metadata": {},
   "outputs": [
    {
     "name": "stdout",
     "output_type": "stream",
     "text": [
      "\n",
      "\n",
      "\u001b[1m> Entering new  chain...\u001b[0m\n",
      "\u001b[36;1m\u001b[1;3m\n",
      "\n",
      "Cluck Co.\u001b[0m\n",
      "\u001b[33;1m\u001b[1;3m\n",
      "\n",
      "\"Clucking up this world one chicken at a time!\"\u001b[0m\n",
      "\n",
      "\u001b[1m> Finished chain.\u001b[0m\n"
     ]
    }
   ],
   "source": [
    "from langchain.chains import LLMChain, SimpleSequentialChain\n",
    "\n",
    "# Create a second chain with a prompt template and an LLM\n",
    "second_prompt = PromptTemplate(\n",
    "    input_variables=[\"company_name\"],\n",
    "    template=\"Write a funny catchphrase for the following company: {company_name}\",\n",
    ")\n",
    "\n",
    "chain_two = LLMChain(llm=llm, prompt=second_prompt)\n",
    "\n",
    "# Combine the first and the second chain \n",
    "overall_chain = SimpleSequentialChain(chains=[chain, chain_two], verbose=True)\n",
    "\n",
    "# Run the chain specifying only the input variable for the first chain.\n",
    "catchphrase = overall_chain.run(\"chickens\")"
   ]
  },
  {
   "cell_type": "markdown",
   "id": "d0187cc8-5631-4d3e-b5e2-1c1a9854c306",
   "metadata": {},
   "source": [
    "## Agents: Accessing other tools"
   ]
  },
  {
   "cell_type": "code",
   "execution_count": 12,
   "id": "df0d6034-35ae-4688-8eef-a8c1b8596510",
   "metadata": {},
   "outputs": [],
   "source": [
    "!pip -q install wikipedia"
   ]
  },
  {
   "cell_type": "code",
   "execution_count": 13,
   "id": "8e64363f-fcd6-44c6-b9e5-8df713284750",
   "metadata": {},
   "outputs": [
    {
     "name": "stdout",
     "output_type": "stream",
     "text": [
      "\n",
      "\n",
      "\u001b[1m> Entering new  chain...\u001b[0m\n",
      "\u001b[32;1m\u001b[1;3m I need to find out when Jeff Bezos was born and then calculate his age in 2022.\n",
      "Action: Wikipedia\n",
      "Action Input: Jeff Bezos\u001b[0m\n",
      "Observation: \u001b[36;1m\u001b[1;3mPage: Jeff Bezos\n",
      "Summary: Jeffrey Preston Bezos ( BAY-zohss; né Jorgensen; born January 12, 1964) is an American entrepreneur, media proprietor, investor, and commercial astronaut. He is the founder, executive chairman, and former president and CEO of Amazon, the world's largest e-commerce and cloud computing company. With a net worth of US$125 billion as of April 2023, Bezos is the third-wealthiest person in the world and was the wealthiest from 2017 to 2021, according to both the Bloomberg Billionaires Index and Forbes.Born in Albuquerque and raised in Houston and Miami, Bezos graduated from Princeton University in 1986. He holds a degree in electrical engineering and computer science. He worked on Wall Street in a variety of related fields from 1986 to early 1994. Bezos founded Amazon in late 1994 on a road trip from New York City to Seattle. The company began as an online bookstore and has since expanded to a variety of other e-commerce products and services, including video and audio streaming, cloud computing, and artificial intelligence. It is the world's largest online sales company, the largest Internet company by revenue, and the largest provider of virtual assistants and cloud infrastructure services through its Amazon Web Services branch.\n",
      "Bezos founded the aerospace manufacturer and sub-orbital spaceflight services company Blue Origin in 2000. Blue Origin's New Shepard vehicle reached space in 2015 and afterwards successfully landed back on Earth; he flew into space on Blue Origin NS-16 in 2021. He also purchased the major American newspaper The Washington Post in 2013 for $250 million and manages many other investments through his venture capital firm, Bezos Expeditions. In September 2021, Bezos co-founded biotechnology company Altos Labs with Mail.ru founder Yuri Milner.The first centibillionaire on the Forbes Real Time Billionaires Index and the second ever to have eclipsed the feat since Bill Gates in 1999, Bezos was named the \"richest man in modern history\" after his net worth increased to $150 billion in July 2018. In August 2020, according to Forbes, he had a net worth exceeding $200 billion. In 2020 during the COVID-19 pandemic, his wealth grew by approximately $24 billion. On July 5, 2021, Bezos stepped down as the CEO and president of Amazon and took over the role of executive chairman. AWS CEO Andy Jassy succeeded Bezos as the CEO and president of Amazon. In September 2022, he was ranked second on the Forbes 400 list of wealthiest Americans with a net worth of $151 billion.\n",
      "\n",
      "\n",
      "\n",
      "Page: Family of Jeff Bezos\n",
      "Summary: The family of Jeff Bezos, the business magnate, is a prominent American family active in business and philanthropy. Jeff Bezos and his former wife Mackenzie Scott were the co-founders of Amazon.com.\n",
      "Family members have Danish-American, Mexican American and Cuban heritage.\n",
      "\n",
      "Page: Mark Bezos\n",
      "Summary: Marcus Jim \"Mark\" Bezos ( BAY-zohss; born c. 1967) is an American space tourist and former advertising executive. He is the half-brother of Jeff Bezos, the founder of Amazon, with whom he flew to the edge of space as part of the Blue Origin NS-16 mission on July 20, 2021.\u001b[0m\n",
      "Thought:\u001b[32;1m\u001b[1;3m I now know the final answer\n",
      "Final Answer: Jeff Bezos was born on January 12, 1964, and was 58 years old in 2022.\u001b[0m\n",
      "\n",
      "\u001b[1m> Finished chain.\u001b[0m\n"
     ]
    },
    {
     "data": {
      "text/plain": [
       "'Jeff Bezos was born on January 12, 1964, and was 58 years old in 2022.'"
      ]
     },
     "execution_count": 13,
     "metadata": {},
     "output_type": "execute_result"
    }
   ],
   "source": [
    "from langchain.agents import load_tools\n",
    "from langchain.agents import initialize_agent\n",
    "from langchain.agents import AgentType\n",
    "\n",
    "llm = OpenAI(model_name=\"text-davinci-003\",\n",
    "             temperature=0,\n",
    "             max_tokens=256)\n",
    "\n",
    "tools = load_tools([\"wikipedia\", \"llm-math\"], llm=llm)\n",
    "agent = initialize_agent(tools, \n",
    "                         llm, \n",
    "                         agent=AgentType.ZERO_SHOT_REACT_DESCRIPTION, \n",
    "                         verbose=True)\n",
    "\n",
    "\n",
    "agent.run(\"When was Jeff Bezos born? How old was he in 2022?\")"
   ]
  },
  {
   "cell_type": "code",
   "execution_count": null,
   "id": "7ad6f548-3dc4-463c-8f9b-3796478c4a4f",
   "metadata": {},
   "outputs": [],
   "source": []
  }
 ],
 "metadata": {
  "kernelspec": {
   "display_name": "Python 3 (ipykernel)",
   "language": "python",
   "name": "python3"
  },
  "language_info": {
   "codemirror_mode": {
    "name": "ipython",
    "version": 3
   },
   "file_extension": ".py",
   "mimetype": "text/x-python",
   "name": "python",
   "nbconvert_exporter": "python",
   "pygments_lexer": "ipython3",
   "version": "3.11.4"
  }
 },
 "nbformat": 4,
 "nbformat_minor": 5
}
